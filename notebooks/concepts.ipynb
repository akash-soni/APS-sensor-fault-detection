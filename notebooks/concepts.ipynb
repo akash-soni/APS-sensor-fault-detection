{
 "cells": [
  {
   "cell_type": "code",
   "execution_count": 1,
   "metadata": {},
   "outputs": [],
   "source": [
    "import pandas as pd"
   ]
  },
  {
   "attachments": {},
   "cell_type": "markdown",
   "metadata": {},
   "source": [
    "#### DataDrift - check whether 2 distributions are similar or not\n",
    "\n",
    "- we can use evidentlyai.com is used to check the data drift but works slow when data is large\n",
    "- Alternatively we can us Tensorflow Data Validation library as it is better performance wise.\n",
    "- or build custom function for checking data drift. we are using kolgonomorov-srinov test\n",
    "    - Null Hpyothesis :  if 2 distributions are same distributions are identical(p>alpha=0.5)\n",
    "    - Alternative Hypothesis : if 2 dristribution are not identical then there is data drift(p< alpha=0.5)\n",
    "\n"
   ]
  },
  {
   "cell_type": "code",
   "execution_count": 2,
   "metadata": {},
   "outputs": [],
   "source": [
    "from scipy.stats import ks_2samp"
   ]
  },
  {
   "cell_type": "code",
   "execution_count": 5,
   "metadata": {},
   "outputs": [
    {
     "data": {
      "text/plain": [
       "KstestResult(statistic=0.0, pvalue=1.0, statistic_location=0, statistic_sign=1)"
      ]
     },
     "execution_count": 5,
     "metadata": {},
     "output_type": "execute_result"
    }
   ],
   "source": [
    "import numpy as np\n",
    "d1 = np.arange(10)\n",
    "d2 = np.arange(10)\n",
    "ks_2samp(d1,d2)"
   ]
  },
  {
   "attachments": {},
   "cell_type": "markdown",
   "metadata": {},
   "source": [
    "d1 and d2 are not from the same distribution "
   ]
  },
  {
   "cell_type": "code",
   "execution_count": 7,
   "metadata": {},
   "outputs": [
    {
     "data": {
      "text/plain": [
       "KstestResult(statistic=1.0, pvalue=4.2646072253826637e-14, statistic_location=9, statistic_sign=-1)"
      ]
     },
     "execution_count": 7,
     "metadata": {},
     "output_type": "execute_result"
    }
   ],
   "source": [
    "d1 = np.arange(100,200)\n",
    "d2 = np.arange(10)\n",
    "ks_2samp(d1,d2)"
   ]
  },
  {
   "attachments": {},
   "cell_type": "markdown",
   "metadata": {},
   "source": [
    "observe that P-value is almost 0 because d1 and d2 are not in the same range"
   ]
  },
  {
   "attachments": {},
   "cell_type": "markdown",
   "metadata": {},
   "source": [
    "Let's do it for our train and test data"
   ]
  },
  {
   "cell_type": "code",
   "execution_count": 25,
   "metadata": {},
   "outputs": [],
   "source": [
    "train_file_path = \"C:/projects/Project1/APS-sensor-fault-detection/artifact/06_17_2023_16_58_54/data_ingestion/ingested/train.csv\"\n",
    "test_file_path = \"C:/projects/Project1/APS-sensor-fault-detection/artifact/06_17_2023_16_58_54/data_ingestion/ingested/test.csv\""
   ]
  },
  {
   "cell_type": "code",
   "execution_count": 27,
   "metadata": {},
   "outputs": [],
   "source": [
    "train_df = pd.read_csv(train_file_path)\n",
    "test_df = pd.read_csv(test_file_path)"
   ]
  },
  {
   "cell_type": "code",
   "execution_count": 28,
   "metadata": {},
   "outputs": [
    {
     "data": {
      "text/plain": [
       "Index(['class', 'aa_000', 'ac_000', 'ad_000', 'ae_000', 'af_000', 'ag_000',\n",
       "       'ag_001', 'ag_002', 'ag_003',\n",
       "       ...\n",
       "       'ee_002', 'ee_003', 'ee_004', 'ee_005', 'ee_006', 'ee_007', 'ee_008',\n",
       "       'ee_009', 'ef_000', 'eg_000'],\n",
       "      dtype='object', length=164)"
      ]
     },
     "execution_count": 28,
     "metadata": {},
     "output_type": "execute_result"
    }
   ],
   "source": [
    "train_df.columns"
   ]
  },
  {
   "cell_type": "code",
   "execution_count": 29,
   "metadata": {},
   "outputs": [
    {
     "data": {
      "text/plain": [
       "Index(['class', 'aa_000', 'ac_000', 'ad_000', 'ae_000', 'af_000', 'ag_000',\n",
       "       'ag_001', 'ag_002', 'ag_003',\n",
       "       ...\n",
       "       'ee_002', 'ee_003', 'ee_004', 'ee_005', 'ee_006', 'ee_007', 'ee_008',\n",
       "       'ee_009', 'ef_000', 'eg_000'],\n",
       "      dtype='object', length=164)"
      ]
     },
     "execution_count": 29,
     "metadata": {},
     "output_type": "execute_result"
    }
   ],
   "source": [
    "test_df.columns"
   ]
  },
  {
   "cell_type": "code",
   "execution_count": 30,
   "metadata": {},
   "outputs": [
    {
     "data": {
      "text/plain": [
       "KstestResult(statistic=0.010059309559517837, pvalue=0.7122504505702205, statistic_location=91132, statistic_sign=1)"
      ]
     },
     "execution_count": 30,
     "metadata": {},
     "output_type": "execute_result"
    }
   ],
   "source": [
    "d1 = train_df['aa_000']\n",
    "d2 = test_df['aa_000']\n",
    "ks_2samp(d1,d2)"
   ]
  },
  {
   "attachments": {},
   "cell_type": "markdown",
   "metadata": {},
   "source": [
    "now observe that there is 71% similarity"
   ]
  },
  {
   "cell_type": "code",
   "execution_count": 44,
   "metadata": {},
   "outputs": [],
   "source": [
    "# get the columns names where drift or identical pvalue is 5%\n",
    "def get_drift_report(base_df, current_df, threshold=0.05):\n",
    "    report = {}\n",
    "    for column in base_df.columns:\n",
    "        d1 = base_df[column]\n",
    "        d2 = current_df[column]\n",
    "        is_same_dist = ks_2samp(d1,d2)\n",
    "        if threshold<=is_same_dist.pvalue:\n",
    "            is_found=False\n",
    "        else:\n",
    "            is_found=True\n",
    "        report.update({column:{\n",
    "            \"p_value\":float(is_same_dist.pvalue),\n",
    "            \"drift_status\":is_found}})\n",
    "    return report"
   ]
  },
  {
   "cell_type": "code",
   "execution_count": 45,
   "metadata": {},
   "outputs": [
    {
     "data": {
      "text/plain": [
       "{'class': {'p_value': 1.0, 'drift_status': False},\n",
       " 'aa_000': {'p_value': 0.7122504505702205, 'drift_status': False},\n",
       " 'ac_000': {'p_value': 0.8119138636579566, 'drift_status': False},\n",
       " 'ad_000': {'p_value': 0.0460108064909619, 'drift_status': True},\n",
       " 'ae_000': {'p_value': 0.9867153765235301, 'drift_status': False},\n",
       " 'af_000': {'p_value': 0.9826254099936215, 'drift_status': False},\n",
       " 'ag_000': {'p_value': 1.0, 'drift_status': False},\n",
       " 'ag_001': {'p_value': 0.9999999999916019, 'drift_status': False},\n",
       " 'ag_002': {'p_value': 0.9999855306804062, 'drift_status': False},\n",
       " 'ag_003': {'p_value': 0.9606197153549241, 'drift_status': False},\n",
       " 'ag_004': {'p_value': 0.618453213992255, 'drift_status': False},\n",
       " 'ag_005': {'p_value': 0.39503244033633467, 'drift_status': False},\n",
       " 'ag_006': {'p_value': 0.7307990726797906, 'drift_status': False},\n",
       " 'ag_007': {'p_value': 0.3787602693004445, 'drift_status': False},\n",
       " 'ag_008': {'p_value': 0.6030778159207568, 'drift_status': False},\n",
       " 'ag_009': {'p_value': 0.4316104200415719, 'drift_status': False},\n",
       " 'ah_000': {'p_value': 0.4836271957197662, 'drift_status': False},\n",
       " 'ai_000': {'p_value': 0.9999999999999987, 'drift_status': False},\n",
       " 'aj_000': {'p_value': 0.9474946839616162, 'drift_status': False},\n",
       " 'ak_000': {'p_value': 0.8039177500141499, 'drift_status': False},\n",
       " 'al_000': {'p_value': 0.9585911456392568, 'drift_status': False},\n",
       " 'am_0': {'p_value': 0.9546385177400734, 'drift_status': False},\n",
       " 'an_000': {'p_value': 0.6242575941289092, 'drift_status': False},\n",
       " 'ao_000': {'p_value': 0.5475151926376198, 'drift_status': False},\n",
       " 'ap_000': {'p_value': 0.7306342663727226, 'drift_status': False},\n",
       " 'aq_000': {'p_value': 0.4746462337109272, 'drift_status': False},\n",
       " 'ar_000': {'p_value': 0.8499417726011456, 'drift_status': False},\n",
       " 'as_000': {'p_value': 1.0, 'drift_status': False},\n",
       " 'at_000': {'p_value': 0.941752876594793, 'drift_status': False},\n",
       " 'au_000': {'p_value': 1.0, 'drift_status': False},\n",
       " 'av_000': {'p_value': 0.560561513969446, 'drift_status': False},\n",
       " 'ax_000': {'p_value': 0.853939318409265, 'drift_status': False},\n",
       " 'ay_000': {'p_value': 1.0, 'drift_status': False},\n",
       " 'ay_001': {'p_value': 0.9999999999999981, 'drift_status': False},\n",
       " 'ay_002': {'p_value': 0.9999999999999994, 'drift_status': False},\n",
       " 'ay_003': {'p_value': 0.9999999999999998, 'drift_status': False},\n",
       " 'ay_004': {'p_value': 0.9999999995446203, 'drift_status': False},\n",
       " 'ay_005': {'p_value': 0.9287369811838109, 'drift_status': False},\n",
       " 'ay_006': {'p_value': 0.5150630565422725, 'drift_status': False},\n",
       " 'ay_007': {'p_value': 0.4290857237998459, 'drift_status': False},\n",
       " 'ay_008': {'p_value': 0.7475048014450725, 'drift_status': False},\n",
       " 'ay_009': {'p_value': 1.0, 'drift_status': False},\n",
       " 'az_000': {'p_value': 0.5014335608671583, 'drift_status': False},\n",
       " 'az_001': {'p_value': 0.6923856998557063, 'drift_status': False},\n",
       " 'az_002': {'p_value': 0.7505851561898623, 'drift_status': False},\n",
       " 'az_003': {'p_value': 0.8424560738791775, 'drift_status': False},\n",
       " 'az_004': {'p_value': 0.7313662518156279, 'drift_status': False},\n",
       " 'az_005': {'p_value': 0.7490831043803619, 'drift_status': False},\n",
       " 'az_006': {'p_value': 0.8075948318528436, 'drift_status': False},\n",
       " 'az_007': {'p_value': 0.9989311154610797, 'drift_status': False},\n",
       " 'az_008': {'p_value': 0.9999999999834479, 'drift_status': False},\n",
       " 'az_009': {'p_value': 0.9999999999999531, 'drift_status': False},\n",
       " 'ba_000': {'p_value': 0.489020852709219, 'drift_status': False},\n",
       " 'ba_001': {'p_value': 0.3444605788649102, 'drift_status': False},\n",
       " 'ba_002': {'p_value': 0.49832221593649983, 'drift_status': False},\n",
       " 'ba_003': {'p_value': 0.3171838832562326, 'drift_status': False},\n",
       " 'ba_004': {'p_value': 0.48392522907870217, 'drift_status': False},\n",
       " 'ba_005': {'p_value': 0.5757675474590427, 'drift_status': False},\n",
       " 'ba_006': {'p_value': 0.6967011163247825, 'drift_status': False},\n",
       " 'ba_007': {'p_value': 0.841519140918652, 'drift_status': False},\n",
       " 'ba_008': {'p_value': 0.42433879601040403, 'drift_status': False},\n",
       " 'ba_009': {'p_value': 0.3551648728770431, 'drift_status': False},\n",
       " 'bb_000': {'p_value': 0.688213250773384, 'drift_status': False},\n",
       " 'bc_000': {'p_value': 0.7363388565770855, 'drift_status': False},\n",
       " 'bd_000': {'p_value': 0.21489254921321732, 'drift_status': False},\n",
       " 'be_000': {'p_value': 0.5161448344202371, 'drift_status': False},\n",
       " 'bf_000': {'p_value': 0.4743096641839657, 'drift_status': False},\n",
       " 'bg_000': {'p_value': 0.48810760291589694, 'drift_status': False},\n",
       " 'bh_000': {'p_value': 0.44442085830650147, 'drift_status': False},\n",
       " 'bi_000': {'p_value': 0.9205945273902888, 'drift_status': False},\n",
       " 'bj_000': {'p_value': 0.5379351395427586, 'drift_status': False},\n",
       " 'bk_000': {'p_value': 0.9067900469445576, 'drift_status': False},\n",
       " 'bl_000': {'p_value': 0.06351875900510284, 'drift_status': False},\n",
       " 'bm_000': {'p_value': 0.997287107157784, 'drift_status': False},\n",
       " 'bs_000': {'p_value': 0.14234709568502546, 'drift_status': False},\n",
       " 'bt_000': {'p_value': 0.610380414677981, 'drift_status': False},\n",
       " 'bu_000': {'p_value': 0.5202581435312592, 'drift_status': False},\n",
       " 'bv_000': {'p_value': 0.5202581435312592, 'drift_status': False},\n",
       " 'bx_000': {'p_value': 0.292845916902158, 'drift_status': False},\n",
       " 'by_000': {'p_value': 0.3212968639837338, 'drift_status': False},\n",
       " 'bz_000': {'p_value': 0.30944569978715364, 'drift_status': False},\n",
       " 'ca_000': {'p_value': 0.38732028834385945, 'drift_status': False},\n",
       " 'cb_000': {'p_value': 0.2646712373019666, 'drift_status': False},\n",
       " 'cc_000': {'p_value': 0.302426199531205, 'drift_status': False},\n",
       " 'cd_000': {'p_value': 1.0, 'drift_status': False},\n",
       " 'ce_000': {'p_value': 0.5935712409990134, 'drift_status': False},\n",
       " 'cf_000': {'p_value': 0.0750592560171578, 'drift_status': False},\n",
       " 'cg_000': {'p_value': 0.02963999223967495, 'drift_status': True},\n",
       " 'ch_000': {'p_value': 0.11843298606063335, 'drift_status': False},\n",
       " 'ci_000': {'p_value': 0.5675056162181481, 'drift_status': False},\n",
       " 'cj_000': {'p_value': 0.8033562173424473, 'drift_status': False},\n",
       " 'ck_000': {'p_value': 0.6794072822062648, 'drift_status': False},\n",
       " 'cl_000': {'p_value': 0.28353365405969444, 'drift_status': False},\n",
       " 'cm_000': {'p_value': 0.27091074144595717, 'drift_status': False},\n",
       " 'cn_000': {'p_value': 0.999999689977082, 'drift_status': False},\n",
       " 'cn_001': {'p_value': 0.9984060061049733, 'drift_status': False},\n",
       " 'cn_002': {'p_value': 0.4720769871631795, 'drift_status': False},\n",
       " 'cn_003': {'p_value': 0.2649911078612771, 'drift_status': False},\n",
       " 'cn_004': {'p_value': 0.19580119696265608, 'drift_status': False},\n",
       " 'cn_005': {'p_value': 0.5779805512794401, 'drift_status': False},\n",
       " 'cn_006': {'p_value': 0.8596437971315993, 'drift_status': False},\n",
       " 'cn_007': {'p_value': 0.5862339851621072, 'drift_status': False},\n",
       " 'cn_008': {'p_value': 0.8193757696480485, 'drift_status': False},\n",
       " 'cn_009': {'p_value': 0.7708120788795126, 'drift_status': False},\n",
       " 'co_000': {'p_value': 0.08562682604228489, 'drift_status': False},\n",
       " 'cp_000': {'p_value': 0.8124485797180702, 'drift_status': False},\n",
       " 'cq_000': {'p_value': 0.5202581435312592, 'drift_status': False},\n",
       " 'cs_000': {'p_value': 0.41102800571382103, 'drift_status': False},\n",
       " 'cs_001': {'p_value': 0.35907275910768843, 'drift_status': False},\n",
       " 'cs_002': {'p_value': 0.38825629153634156, 'drift_status': False},\n",
       " 'cs_003': {'p_value': 0.6350189681970719, 'drift_status': False},\n",
       " 'cs_004': {'p_value': 0.18634926275756136, 'drift_status': False},\n",
       " 'cs_005': {'p_value': 0.4789114435968531, 'drift_status': False},\n",
       " 'cs_006': {'p_value': 0.4331670686658189, 'drift_status': False},\n",
       " 'cs_007': {'p_value': 0.8016083583646665, 'drift_status': False},\n",
       " 'cs_008': {'p_value': 0.29840227196931834, 'drift_status': False},\n",
       " 'cs_009': {'p_value': 1.0, 'drift_status': False},\n",
       " 'ct_000': {'p_value': 0.08571206005188448, 'drift_status': False},\n",
       " 'cu_000': {'p_value': 0.02594628498714524, 'drift_status': True},\n",
       " 'cv_000': {'p_value': 0.03278673337078242, 'drift_status': True},\n",
       " 'cx_000': {'p_value': 0.003198985201069625, 'drift_status': True},\n",
       " 'cy_000': {'p_value': 0.05994367353331698, 'drift_status': False},\n",
       " 'cz_000': {'p_value': 0.10470854155870035, 'drift_status': False},\n",
       " 'da_000': {'p_value': 0.23911919156622763, 'drift_status': False},\n",
       " 'db_000': {'p_value': 0.2198804481270138, 'drift_status': False},\n",
       " 'dc_000': {'p_value': 0.027415520150577688, 'drift_status': True},\n",
       " 'dd_000': {'p_value': 0.590462405580074, 'drift_status': False},\n",
       " 'de_000': {'p_value': 0.6340614556653739, 'drift_status': False},\n",
       " 'df_000': {'p_value': 0.8501595835860397, 'drift_status': False},\n",
       " 'dg_000': {'p_value': 0.6920952695971965, 'drift_status': False},\n",
       " 'dh_000': {'p_value': 0.6387729246551873, 'drift_status': False},\n",
       " 'di_000': {'p_value': 0.6823766791886494, 'drift_status': False},\n",
       " 'dj_000': {'p_value': 0.9763756739321581, 'drift_status': False},\n",
       " 'dk_000': {'p_value': 0.9703237522121965, 'drift_status': False},\n",
       " 'dl_000': {'p_value': 0.9703259231879087, 'drift_status': False},\n",
       " 'dm_000': {'p_value': 0.9614435911563967, 'drift_status': False},\n",
       " 'dn_000': {'p_value': 0.48812855376301634, 'drift_status': False},\n",
       " 'do_000': {'p_value': 0.13836151517182815, 'drift_status': False},\n",
       " 'dp_000': {'p_value': 0.02610606811854599, 'drift_status': True},\n",
       " 'dq_000': {'p_value': 0.9041967038110729, 'drift_status': False},\n",
       " 'dr_000': {'p_value': 0.8456792789699956, 'drift_status': False},\n",
       " 'ds_000': {'p_value': 0.25214640133301525, 'drift_status': False},\n",
       " 'dt_000': {'p_value': 0.33757152085160436, 'drift_status': False},\n",
       " 'du_000': {'p_value': 0.2616200446695557, 'drift_status': False},\n",
       " 'dv_000': {'p_value': 0.12675070437820812, 'drift_status': False},\n",
       " 'dx_000': {'p_value': 0.8460552564596461, 'drift_status': False},\n",
       " 'dy_000': {'p_value': 0.812377169247156, 'drift_status': False},\n",
       " 'dz_000': {'p_value': 0.9957956854225907, 'drift_status': False},\n",
       " 'ea_000': {'p_value': 0.9908578373866556, 'drift_status': False},\n",
       " 'eb_000': {'p_value': 0.12740100878067917, 'drift_status': False},\n",
       " 'ec_00': {'p_value': 0.26239506871163487, 'drift_status': False},\n",
       " 'ed_000': {'p_value': 0.1626727165507339, 'drift_status': False},\n",
       " 'ee_000': {'p_value': 0.5532591554266986, 'drift_status': False},\n",
       " 'ee_001': {'p_value': 0.37963654776622413, 'drift_status': False},\n",
       " 'ee_002': {'p_value': 0.3812076460196806, 'drift_status': False},\n",
       " 'ee_003': {'p_value': 0.3410099431123632, 'drift_status': False},\n",
       " 'ee_004': {'p_value': 0.18665611343030286, 'drift_status': False},\n",
       " 'ee_005': {'p_value': 0.3017484532228497, 'drift_status': False},\n",
       " 'ee_006': {'p_value': 0.6816009342764325, 'drift_status': False},\n",
       " 'ee_007': {'p_value': 0.5001782967253539, 'drift_status': False},\n",
       " 'ee_008': {'p_value': 0.4051608953042336, 'drift_status': False},\n",
       " 'ee_009': {'p_value': 0.8101227679512836, 'drift_status': False},\n",
       " 'ef_000': {'p_value': 0.9968692816937792, 'drift_status': False},\n",
       " 'eg_000': {'p_value': 0.9934051789571214, 'drift_status': False}}"
      ]
     },
     "execution_count": 45,
     "metadata": {},
     "output_type": "execute_result"
    }
   ],
   "source": [
    "get_drift_report(train_df, test_df)"
   ]
  },
  {
   "attachments": {},
   "cell_type": "markdown",
   "metadata": {},
   "source": [
    "Write the report to yaml file"
   ]
  },
  {
   "cell_type": "code",
   "execution_count": 46,
   "metadata": {},
   "outputs": [],
   "source": [
    "from sensor.utils.main_utils import write_yaml_file"
   ]
  },
  {
   "cell_type": "code",
   "execution_count": 47,
   "metadata": {},
   "outputs": [],
   "source": [
    "data_drift_report = get_drift_report(train_df, test_df)"
   ]
  },
  {
   "cell_type": "code",
   "execution_count": 48,
   "metadata": {},
   "outputs": [],
   "source": [
    "import os\n",
    "write_yaml_file(file_path=os.path.join(os.getcwd(),\"report.yaml\"), content=data_drift_report, replace=True\n",
    ")"
   ]
  },
  {
   "cell_type": "code",
   "execution_count": null,
   "metadata": {},
   "outputs": [],
   "source": []
  },
  {
   "attachments": {},
   "cell_type": "markdown",
   "metadata": {},
   "source": [
    "### Mapping"
   ]
  },
  {
   "cell_type": "code",
   "execution_count": null,
   "metadata": {},
   "outputs": [],
   "source": []
  },
  {
   "cell_type": "code",
   "execution_count": 15,
   "metadata": {},
   "outputs": [
    {
     "ename": "ImportError",
     "evalue": "cannot import name 'TargetValueMapping' from 'sensor.ml.model.estimator' (c:\\projects\\project1\\aps-sensor-fault-detection\\sensor\\ml\\model\\estimator.py)",
     "output_type": "error",
     "traceback": [
      "\u001b[1;31m---------------------------------------------------------------------------\u001b[0m",
      "\u001b[1;31mImportError\u001b[0m                               Traceback (most recent call last)",
      "Cell \u001b[1;32mIn[15], line 1\u001b[0m\n\u001b[1;32m----> 1\u001b[0m \u001b[39mfrom\u001b[39;00m \u001b[39msensor\u001b[39;00m\u001b[39m.\u001b[39;00m\u001b[39mml\u001b[39;00m\u001b[39m.\u001b[39;00m\u001b[39mmodel\u001b[39;00m\u001b[39m.\u001b[39;00m\u001b[39mestimator\u001b[39;00m \u001b[39mimport\u001b[39;00m TargetValueMapping\n",
      "\u001b[1;31mImportError\u001b[0m: cannot import name 'TargetValueMapping' from 'sensor.ml.model.estimator' (c:\\projects\\project1\\aps-sensor-fault-detection\\sensor\\ml\\model\\estimator.py)"
     ]
    }
   ],
   "source": [
    "from sensor.ml.model.estimator import TargetValueMapping"
   ]
  }
 ],
 "metadata": {
  "kernelspec": {
   "display_name": "Python 3",
   "language": "python",
   "name": "python3"
  },
  "language_info": {
   "codemirror_mode": {
    "name": "ipython",
    "version": 3
   },
   "file_extension": ".py",
   "mimetype": "text/x-python",
   "name": "python",
   "nbconvert_exporter": "python",
   "pygments_lexer": "ipython3",
   "version": "3.8.0"
  },
  "orig_nbformat": 4
 },
 "nbformat": 4,
 "nbformat_minor": 2
}
